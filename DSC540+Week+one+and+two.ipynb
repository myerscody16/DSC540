{
 "cells": [
  {
   "cell_type": "code",
   "execution_count": 102,
   "metadata": {},
   "outputs": [],
   "source": [
    "import pandas as pd\n",
    "import matplotlib.pyplot as plt\n",
    "import numpy as np\n",
    "import random\n",
    "from statistics import mean\n",
    "import re\n",
    "from itertools import permutations, dropwhile\n",
    "#This is used to get zip_longest in python 2. I have to use this for the next few days as I am on my work computer and\n",
    "#python 2 is the only version that I am allowed to have installed on this machine. I have my new personal laptop on the way.\n",
    "from itertools import izip_longest\n",
    "import math"
   ]
  },
  {
   "cell_type": "code",
   "execution_count": 32,
   "metadata": {},
   "outputs": [
    {
     "name": "stdout",
     "output_type": "stream",
     "text": [
      "[5, 4, 3, 2, 1, 547, 598, 762, 49, 999]\n",
      "[5, 4, 3, 2, 1, 547, 598, 762, 49, 999]\n"
     ]
    }
   ],
   "source": [
    "#Exercise 1\n",
    "\n",
    "#Create a list\n",
    "list1 = [1, 2, 3, 4, 5]\n",
    "#Iterate over the list\n",
    "emptyList = [number for number in list1]\n",
    "#Sort the results\n",
    "emptyList.sort(reverse = True)\n",
    "#Generate random numbers\n",
    "listOfRandNums = random.sample(range(0,1000), 5)\n",
    "#Add to list\n",
    "for num in listOfRandNums:\n",
    "    emptyList.append(num)\n",
    "#Print the results\n",
    "print(emptyList)\n",
    "#or\n",
    "print([num for num in emptyList])"
   ]
  },
  {
   "cell_type": "code",
   "execution_count": 33,
   "metadata": {},
   "outputs": [
    {
     "name": "stdout",
     "output_type": "stream",
     "text": [
      "    Year  Population\n",
      "0   1960  3028654024\n",
      "1   1961  3068356747\n",
      "2   1962  3121963107\n",
      "3   1963  3187471383\n",
      "4   1964  3253112403\n",
      "5   1965  3320396924\n",
      "6   1966  3390712300\n",
      "7   1967  3460521851\n",
      "8   1968  3531547287\n",
      "9   1969  3606994959\n",
      "10  1970  3682870688\n",
      "11  1971  3761750672\n",
      "12  1972  3839147707\n",
      "13  1973  3915742695\n",
      "14  1974  3992806090\n",
      "15  1975  4068032705\n",
      "16  1976  4141383058\n",
      "17  1977  4214499013\n",
      "18  1978  4288485981\n",
      "19  1979  4363754326\n",
      "20  1980  4439638086\n",
      "21  1981  4516734312\n",
      "22  1982  4595890494\n",
      "23  1983  4675178812\n",
      "24  1984  4753877875\n",
      "25  1985  4834206631\n",
      "26  1986  4918126890\n",
      "27  1987  5004006066\n",
      "28  1988  5090899475\n",
      "29  1989  5178059174\n",
      "30  1990  5266783430\n",
      "31  1991  5351836347\n",
      "32  1992  5433823608\n",
      "33  1993  5516863641\n",
      "34  1994  5598658151\n",
      "35  1995  5681689325\n",
      "36  1996  5762235749\n",
      "37  1997  5842585301\n",
      "38  1998  5921799957\n",
      "39  1999  6001269553\n",
      "40  2000  6078274622\n",
      "41  2001  6155652495\n",
      "42  2002  6232413711\n",
      "43  2003  6309266583\n",
      "44  2004  6385778679\n",
      "45  2005  6462054420\n",
      "46  2006  6538196688\n",
      "47  2007  6614396907\n",
      "48  2008  6692030277\n",
      "49  2009  6775235741\n"
     ]
    }
   ],
   "source": [
    "#Exercise 2\n",
    "\n",
    "#Bring in the data set\n",
    "data = pd.read_excel(\"world-population.xlsm\")\n",
    "print(data)"
   ]
  },
  {
   "cell_type": "code",
   "execution_count": 34,
   "metadata": {},
   "outputs": [
    {
     "data": {
      "text/plain": [
       "[<matplotlib.lines.Line2D at 0x8e6cd30>]"
      ]
     },
     "execution_count": 34,
     "metadata": {},
     "output_type": "execute_result"
    },
    {
     "data": {
      "image/png": "[encoded data removed]",
      "text/plain": [
       "<matplotlib.figure.Figure at 0xa7a3240>"
      ]
     },
     "metadata": {},
     "output_type": "display_data"
    }
   ],
   "source": [
    "#Create a line chart of the data\n",
    "%matplotlib inline\n",
    "plt.plot(data[\"Year\"], data[\"Population\"],\n",
    "        color = 'blue',\n",
    "        linewidth = 2.5,\n",
    "        linestyle = \"--\")"
   ]
  },
  {
   "cell_type": "code",
   "execution_count": 103,
   "metadata": {},
   "outputs": [
    {
     "name": "stdout",
     "output_type": "stream",
     "text": [
      "The difference variable # 1 is: 64\n",
      "The difference variable # 2 is: 72\n",
      "The difference variable # 3 is: 74\n",
      "The mean of the difference variables of the three lists is: 70.0\n"
     ]
    }
   ],
   "source": [
    "#Exercise 3\n",
    "\n",
    "#Activity 1: Handling lists\n",
    "#Generate list of 100 random numbers\n",
    "listOfRandomNums = random.sample(range(0,5000), 100)\n",
    "\n",
    "#Create a list of numbers divisible by three from the randomly generated list of numbers\n",
    "numsDivBy3 = [num for num in listOfRandomNums if num%3==0]\n",
    "\n",
    "#Calculate the length of both lists\n",
    "randListLeng = len(listOfRandomNums)\n",
    "numsDivBy3Leng = len(numsDivBy3)\n",
    "\n",
    "#Using a loop, perform steps 2 and 3 and find the difference variable three times\n",
    "diffValues = []\n",
    "for iteration in range(0, 3):\n",
    "    listOfRandomNumsInLoop = random.sample(range(0,5000), 100)\n",
    "    numsDivBy3InLoop = [num for num in listOfRandomNumsInLoop if num%3==0]\n",
    "    randListLengInLoop = len(listOfRandomNumsInLoop)\n",
    "    numsDivBy3LengInLoop = len(numsDivBy3InLoop)\n",
    "    print(\"The difference variable # {} is: {}\").format(iteration +1, randListLengInLoop - numsDivBy3LengInLoop)\n",
    "    diffValues.append(randListLengInLoop - numsDivBy3LengInLoop)\n",
    "\n",
    "#Find arithmetic mean of the difference values\n",
    "print(\"The mean of the difference variables of the three lists is: {}\").format(mean(diffValues))"
   ]
  },
  {
   "cell_type": "code",
   "execution_count": 36,
   "metadata": {
    "collapsed": true
   },
   "outputs": [],
   "source": [
    "#Activity 2: Analyze a multiline string and generate the unique word count\n",
    "\n",
    "#Create a multiline text variable\n",
    "pAndP = \"\"\"It is a truth universally acknowledged, that a single man in possession of a good fortune, must be in want of a wife.\n",
    "\n",
    "However little known the feelings or views of such a man may be on his first entering a neighbourhood, this truth is so well fixed in the minds of the surrounding families, that he is considered the rightful property of some one or other of their daughters.\n",
    "\n",
    "\"My dear Mr. Bennet,\" said his lady to him one day, \"have you heard that Netherfield Park is let at last?\"\n",
    "\n",
    "Mr. Bennet replied that he had not.\n",
    "\n",
    "\"But it is,\" returned she; \"for Mrs. Long has just been here, and she told me all about it.\"\n",
    "\n",
    "Mr. Bennet made no answer.\n",
    "\n",
    "\"Do you not want to know who has taken it?\" cried his wife impatiently.\n",
    "\n",
    "\"You want to tell me, and I have no objection to hearing it.\"\n",
    "\n",
    "This was invitation enough.\n",
    "\n",
    "\"Why, my dear, you must know, Mrs. Long says that Netherfield is taken by a young man of large fortune from the north of England; that he came down on Monday in a chaise and four to see the place, and was so much delighted with it, that he agreed with Mr. Morris immediately; that he is to take possession before Michaelmas, and some of his servants are to be in the house by the end of next week.\"\n",
    "\n",
    "\"What is his name?\"\n",
    "\n",
    "\"Bingley.\"\n",
    "\n",
    "\"Is he married or single?\"\n",
    "\n",
    "\"Oh! Single, my dear, to be sure! A single man of large fortune; four or five thousand a year. What a fine thing for our girls!\"\n",
    "\n",
    "\"How so? How can it affect them?\"\n",
    "\n",
    "\"My dear Mr. Bennet,\" replied his wife, \"how can you be so tiresome! You must know that I am thinking of his marrying one of them.\"\n",
    "\n",
    "\"Is that his design in settling here?\"\n",
    "\n",
    "\"Design! Nonsense, how can you talk so! But it is very likely that he may fall in love with one of them, and therefore you must visit him as soon as he comes.\"\n",
    "\n",
    "\"I see no occasion for that. You and the girls may go, or you may send them by themselves, which perhaps will be still better, for as you are as handsome as any of them, Mr. Bingley may like you the best of the party.\"\n",
    "\n",
    "\"My dear, you flatter me. I certainly have had my share of beauty, but I do not pretend to be anything extraordinary now. When a woman has five grown-up daughters, she ought to give over thinking of her own beauty.\"\n",
    "\n",
    "\"In such cases, a woman has not often much beauty to think of.\"\n",
    "\n",
    "\"But, my dear, you must indeed go and see Mr. Bingley when he comes into the neighbourhood.\"\n",
    "\n",
    "\"It is more than I engage for, I assure you.\"\n",
    "\n",
    "\"But consider your daughters. Only think what an establishment it would be for one of them. Sir William and Lady Lucas are determined to go, merely on that account, for in general, you know, they visit no newcomers. Indeed you must go, for it will be impossible for us to visit him if you do not.\"\n",
    "\n",
    "\"You are over-scrupulous, surely. I dare say Mr. Bingley will be very glad to see you; and I will send a few lines by you to assure him of my hearty consent to his marrying whichever he chooses of the girls; though I must throw in a good word for my little Lizzy.\"\n",
    "\n",
    "\"I desire you will do no such thing. Lizzy is not a bit better than the others; and I am sure she is not half so handsome as Jane, nor half so good-humoured as Lydia. But you are always giving her the preference.\"\n",
    "\n",
    "\"They have none of them much to recommend them,\" replied he; \"they are all silly and ignorant like other girls; but Lizzy has something more of quickness than her sisters.\"\n",
    "\n",
    "\"Mr. Bennet, how can you abuse your own children in such a way? You take delight in vexing me. You have no compassion for my poor nerves.\"\n",
    "\n",
    "\"You mistake me, my dear. I have a high respect for your nerves. They are my old friends. I have heard you mention them with consideration these last twenty years at least.\"\n",
    "\n",
    "\"Ah, you do not know what I suffer.\"\n",
    "\n",
    "\"But I hope you will get over it, and live to see many young men of four thousand a year come into the neighbourhood.\"\n",
    "\n",
    "\"It will be no use to us, if twenty such should come, since you will not visit them.\"\n",
    "\n",
    "\"Depend upon it, my dear, that when there are twenty, I will visit them all.\"\n",
    "\n",
    "Mr. Bennet was so odd a mixture of quick parts, sarcastic humour, reserve, and caprice, that the experience of three-and-twenty years had been insufficient to make his wife understand his character. Her mind was less difficult to develop. She was a woman of mean understanding, little information, and uncertain temper. When she was discontented, she fancied herself nervous. The business of her life was to get her daughters married; its solace was visiting and news. \n",
    "\"\"\"\n"
   ]
  },
  {
   "cell_type": "code",
   "execution_count": 74,
   "metadata": {},
   "outputs": [
    {
     "name": "stdout",
     "output_type": "stream",
     "text": [
      "<type 'str'>\n",
      "4240\n"
     ]
    }
   ],
   "source": [
    "#Find the type type and length of the multiline string\n",
    "print(type(pAndP))\n",
    "print(len(pAndP))\n",
    "\n",
    "#Remove all new lines and symbols with the replace function\n",
    "pAndP = re.sub('[^0-9a-zA-Z]+', ' ', pAndP)\n",
    "\n",
    "#Find all of the words using the split function\n",
    "listOfWords = pAndP.split(\" \")\n",
    "\n",
    "#Find all unique words in the list\n",
    "uniqueWords = []\n",
    "for word in listOfWords:\n",
    "    if word not in uniqueWords:\n",
    "        uniqueWords.append(word)\n",
    "        \n",
    "#Get a word count for the number of times a word is said in the text\n",
    "uniqueWordDict = {}\n",
    "for word in uniqueWords:\n",
    "    count = 0\n",
    "    for notUniqueWord in listOfWords:\n",
    "        if word == notUniqueWord:\n",
    "            count += 1\n",
    "    uniqueWordDict[word] = count\n",
    "\n",
    "#Find the top 25 words using the slice function\n",
    "sortedDictAsList = sorted(uniqueWordDict.items(), key=lambda x: x[1], reverse=True)\n",
    "top25 = {}\n",
    "count = 0 \n",
    "while(count < 25):\n",
    "    top25[sortedDictAsList[count][0]]= sortedDictAsList[count][1]\n",
    "    count += 1"
   ]
  },
  {
   "cell_type": "code",
   "execution_count": 92,
   "metadata": {},
   "outputs": [
    {
     "name": "stdout",
     "output_type": "stream",
     "text": [
      "(0, 1, 2)\n",
      "(0, 2, 1)\n",
      "(1, 0, 2)\n",
      "(1, 2, 0)\n",
      "(2, 0, 1)\n",
      "(2, 1, 0)\n"
     ]
    }
   ],
   "source": [
    "#Activity 3: Permutation, iterator, lambda, list\n",
    "\n",
    "#Write and expression to generate all possible three digit numbers using 0, 1, and 2.\n",
    "nums = [0, 1, 2]\n",
    "listOfPossOpts = permutations(nums)\n",
    "\n",
    "#Loop over the iterator expression and print each element, verify that the returned values are tuples\n",
    "for val in list(listOfPossOpts):\n",
    "    assert True == isinstance(val, tuple), \"Not a tuple\"\n",
    "    print(val)"
   ]
  },
  {
   "cell_type": "code",
   "execution_count": 95,
   "metadata": {},
   "outputs": [
    {
     "name": "stdout",
     "output_type": "stream",
     "text": [
      "[1, 2]\n",
      "[2, 1]\n",
      "[1, 0, 2]\n",
      "[1, 2, 0]\n",
      "[2, 0, 1]\n",
      "[2, 1, 0]\n"
     ]
    }
   ],
   "source": [
    "#Write the loop again using dropwhile with a lambda expression to drop any leading zeros from the tuples\n",
    "for tuple in permutations(nums):\n",
    "    print(list(dropwhile(lambda x : x == 0, tuple)))\n",
    "    "
   ]
  },
  {
   "cell_type": "code",
   "execution_count": 97,
   "metadata": {},
   "outputs": [
    {
     "name": "stdout",
     "output_type": "stream",
     "text": [
      "12.0\n",
      "21.0\n",
      "102.0\n",
      "120.0\n",
      "201.0\n",
      "210.0\n"
     ]
    }
   ],
   "source": [
    "#Write the logic from before, but this time write a separate function where you will be\n",
    "#passing down the list generated from dropwhile and return the elements as single whole number\n",
    "def convert_to_number(number_stack):\n",
    "    final_number = 0\n",
    "    for i in range(0, len(number_stack)):\n",
    "        final_number += (number_stack.pop() * (math.pow(10, i)))\n",
    "    return final_number\n",
    "\n",
    "for number_tuple in permutations(range(3)):\n",
    "    number_stack = list(dropwhile(lambda x : x == 0, number_tuple))\n",
    "    print(convert_to_number(number_stack))\n",
    " "
   ]
  },
  {
   "cell_type": "code",
   "execution_count": 117,
   "metadata": {},
   "outputs": [
    {
     "name": "stdout",
     "output_type": "stream",
     "text": [
      "{'Item Type': 'Baby Food', 'Total Revenue': '140914.56', 'Country': 'Antigua and Barbuda ', 'Region': 'Central America and the Caribbean', 'Sales Channel': 'Online', 'Order Date': '12/20/2013', 'Units Sold': '552', 'Unit Cost': '159.42', 'Total Profit ': '52914.72 ', 'Unit Price': '255.28', 'Order Priority': 'M', 'Ship Date': '1/11/2014', 'Total Cost': '87999.84', 'Order ID': '957081544'}\n",
      "{'Item Type': 'Snacks', 'Total Revenue': '330640.86', 'Country': 'Panama', 'Region': 'Central America and the Caribbean', 'Sales Channel': 'Offline', 'Order Date': '7/5/2010', 'Units Sold': '2167', 'Unit Cost': '97.44', 'Total Profit ': '119488.38 ', 'Unit Price': '152.58', 'Order Priority': 'C', 'Ship Date': '7/26/2010', 'Total Cost': '211152.48', 'Order ID': '301644504'}\n",
      "{'Item Type': 'Beverages', 'Total Revenue': '226716.10', 'Country': 'Czech Republic', 'Region': 'Europe', 'Sales Channel': 'Offline', 'Order Date': '9/12/2011', 'Units Sold': '4778', 'Unit Cost': '31.79', 'Total Profit ': '74823.48 ', 'Unit Price': '47.45', 'Order Priority': 'C', 'Ship Date': '9/29/2011', 'Total Cost': '151892.62', 'Order ID': '478051030'}\n",
      "{'Item Type': 'Cereal', 'Total Revenue': '1854591.20', 'Country': 'North Korea', 'Region': 'Asia', 'Sales Channel': 'Offline', 'Order Date': '5/13/2010', 'Units Sold': '9016', 'Unit Cost': '117.11', 'Total Profit ': '798727.44 ', 'Unit Price': '205.70', 'Order Priority': 'L', 'Ship Date': '6/15/2010', 'Total Cost': '1055863.76', 'Order ID': '892599952'}\n",
      "{'Item Type': 'Snacks', 'Total Revenue': '1150758.36', 'Country': 'Sri Lanka', 'Region': 'Asia', 'Sales Channel': 'Offline', 'Order Date': '7/20/2015', 'Units Sold': '7542', 'Unit Cost': '97.44', 'Total Profit ': '415865.88 ', 'Unit Price': '152.58', 'Order Priority': 'C', 'Ship Date': '7/27/2015', 'Total Cost': '734892.48', 'Order ID': '571902596'}\n",
      "{'Item Type': 'Personal Care', 'Total Revenue': '3923.04', 'Country': 'Morocco', 'Region': 'Middle East and North Africa', 'Sales Channel': 'Offline', 'Order Date': '11/8/2010', 'Units Sold': '48', 'Unit Cost': '56.67', 'Total Profit ': '1202.88 ', 'Unit Price': '81.73', 'Order Priority': 'L', 'Ship Date': '11/22/2010', 'Total Cost': '2720.16', 'Order ID': '412882792'}\n",
      "{'Item Type': 'Clothes', 'Total Revenue': '902434.24', 'Country': 'Federated States of Micronesia', 'Region': 'Australia and Oceania', 'Sales Channel': 'Offline', 'Order Date': '3/28/2011', 'Units Sold': '8258', 'Unit Cost': '35.84', 'Total Profit ': '606467.52 ', 'Unit Price': '109.28', 'Order Priority': 'H', 'Ship Date': '5/10/2011', 'Total Cost': '295966.72', 'Order ID': '932776868'}\n",
      "{'Item Type': 'Clothes', 'Total Revenue': '101302.56', 'Country': 'Bosnia and Herzegovina', 'Region': 'Europe', 'Sales Channel': 'Online', 'Order Date': '10/14/2013', 'Units Sold': '927', 'Unit Cost': '35.84', 'Total Profit ': '68078.88 ', 'Unit Price': '109.28', 'Order Priority': 'M', 'Ship Date': '11/4/2013', 'Total Cost': '33223.68', 'Order ID': '919133651'}\n",
      "{'Item Type': 'Clothes', 'Total Revenue': '966144.48', 'Country': 'Afghanistan', 'Region': 'Middle East and North Africa', 'Sales Channel': 'Offline', 'Order Date': '8/27/2016', 'Units Sold': '8841', 'Unit Cost': '35.84', 'Total Profit ': '649283.04 ', 'Unit Price': '109.28', 'Order Priority': 'M', 'Ship Date': '10/5/2016', 'Total Cost': '316861.44', 'Order ID': '579814469'}\n",
      "{'Item Type': 'Baby Food', 'Total Revenue': '2506083.76', 'Country': 'Ethiopia', 'Region': 'Sub-Saharan Africa', 'Sales Channel': 'Online', 'Order Date': '4/13/2015', 'Units Sold': '9817', 'Unit Cost': '159.42', 'Total Profit ': '941057.62 ', 'Unit Price': '255.28', 'Order Priority': 'M', 'Ship Date': '5/7/2015', 'Total Cost': '1565026.14', 'Order ID': '192993152'}\n",
      "{'Item Type': 'Office Supplies', 'Total Revenue': '2412081.84', 'Country': 'Turkey', 'Region': 'Middle East and North Africa', 'Sales Channel': 'Offline', 'Order Date': '9/25/2013', 'Units Sold': '3704', 'Unit Cost': '524.96', 'Total Profit ': '467630.00 ', 'Unit Price': '651.21', 'Order Priority': 'C', 'Ship Date': '10/15/2013', 'Total Cost': '1944451.84', 'Order ID': '557156026'}\n",
      "{'Item Type': 'Cosmetics', 'Total Revenue': '3227410.40', 'Country': 'Oman', 'Region': 'Middle East and North Africa', 'Sales Channel': 'Online', 'Order Date': '5/12/2013', 'Units Sold': '7382', 'Unit Cost': '263.33', 'Total Profit ': '1283508.34 ', 'Unit Price': '437.20', 'Order Priority': 'M', 'Ship Date': '5/17/2013', 'Total Cost': '1943902.06', 'Order ID': '741101920'}\n"
     ]
    }
   ],
   "source": [
    "#Activity 4: Design your own CSV Parser\n",
    "\n",
    "#Create a function to zip header, line, and fillvalue=None\n",
    "def return_dict_from_csv_line(header, line):\n",
    "    zipped_line = izip_longest(header, line, fillvalue = None)\n",
    "    ret_dict = {kv[0]: kv[1] for kv in zipped_line}\n",
    "    return ret_dict\n",
    "\n",
    "#Open the sales_record.csv file (open is apparently different in python 2. I am of course only using this \n",
    "#because it is all that I have available on my work PC, I will fix this for next week)\n",
    "sales = open(\"sales_record.csv\", \"r\")\n",
    "\n",
    "#Read each line and create a new dictionary for each row in the CSV with the headers as keys.\n",
    "firstLine = sales.readline()\n",
    "header = firstLine.replace(\"\\n\", \" \").split(\",\")\n",
    "for i, line in enumerate(sales):\n",
    "    line = line.replace(\"\\n\", \" \").split(\",\")\n",
    "    d = return_dict_from_csv_line(header, line)\n",
    "    print(d)\n",
    "    if( i > 10):\n",
    "         break"
   ]
  },
  {
   "cell_type": "code",
   "execution_count": null,
   "metadata": {
    "collapsed": true
   },
   "outputs": [],
   "source": []
  }
 ],
 "metadata": {
  "kernelspec": {
   "display_name": "Python 2",
   "language": "python",
   "name": "python2"
  },
  "language_info": {
   "codemirror_mode": {
    "name": "ipython",
    "version": 2
   },
   "file_extension": ".py",
   "mimetype": "text/x-python",
   "name": "python",
   "nbconvert_exporter": "python",
   "pygments_lexer": "ipython2",
   "version": "2.7.13"
  }
 },
 "nbformat": 4,
 "nbformat_minor": 2
}
