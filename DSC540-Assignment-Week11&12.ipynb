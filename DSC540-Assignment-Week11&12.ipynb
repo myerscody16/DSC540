{
 "cells": [
  {
   "cell_type": "code",
   "execution_count": 1,
   "metadata": {},
   "outputs": [],
   "source": [
    "import pandas as pd\n",
    "import numpy as np\n",
    "import sqlite3"
   ]
  },
  {
   "cell_type": "code",
   "execution_count": 2,
   "metadata": {},
   "outputs": [],
   "source": [
    "#Connect to the pets DB\n",
    "conn = sqlite3.connect(\"petsdb\")"
   ]
  },
  {
   "cell_type": "code",
   "execution_count": 3,
   "metadata": {},
   "outputs": [],
   "source": [
    "#Instantiate the cursor\n",
    "cursor = conn.cursor()"
   ]
  },
  {
   "cell_type": "code",
   "execution_count": 7,
   "metadata": {},
   "outputs": [
    {
     "name": "stdout",
     "output_type": "stream",
     "text": [
      "Age: 5, Count of people 2\n",
      "Age: 6, Count of people 1\n",
      "Age: 7, Count of people 1\n",
      "Age: 8, Count of people 3\n",
      "Age: 9, Count of people 1\n",
      "Age: 11, Count of people 2\n",
      "Age: 12, Count of people 3\n",
      "Age: 13, Count of people 1\n",
      "Age: 14, Count of people 4\n",
      "Age: 16, Count of people 2\n",
      "Age: 17, Count of people 2\n",
      "Age: 18, Count of people 3\n",
      "Age: 19, Count of people 1\n",
      "Age: 22, Count of people 3\n",
      "Age: 23, Count of people 2\n",
      "Age: 24, Count of people 3\n",
      "Age: 25, Count of people 2\n",
      "Age: 27, Count of people 1\n",
      "Age: 30, Count of people 1\n",
      "Age: 31, Count of people 3\n",
      "Age: 32, Count of people 1\n",
      "Age: 33, Count of people 1\n",
      "Age: 34, Count of people 2\n",
      "Age: 35, Count of people 3\n",
      "Age: 36, Count of people 3\n",
      "Age: 37, Count of people 1\n",
      "Age: 39, Count of people 2\n",
      "Age: 40, Count of people 1\n",
      "Age: 42, Count of people 1\n",
      "Age: 44, Count of people 2\n",
      "Age: 48, Count of people 2\n",
      "Age: 49, Count of people 1\n",
      "Age: 50, Count of people 1\n",
      "Age: 51, Count of people 2\n",
      "Age: 52, Count of people 2\n",
      "Age: 53, Count of people 2\n",
      "Age: 54, Count of people 2\n",
      "Age: 58, Count of people 1\n",
      "Age: 59, Count of people 1\n",
      "Age: 60, Count of people 1\n",
      "Age: 61, Count of people 1\n",
      "Age: 62, Count of people 2\n",
      "Age: 63, Count of people 1\n",
      "Age: 65, Count of people 2\n",
      "Age: 66, Count of people 2\n",
      "Age: 67, Count of people 1\n",
      "Age: 68, Count of people 3\n",
      "Age: 69, Count of people 1\n",
      "Age: 70, Count of people 1\n",
      "Age: 71, Count of people 4\n",
      "Age: 72, Count of people 1\n",
      "Age: 73, Count of people 5\n",
      "Age: 74, Count of people 3\n"
     ]
    }
   ],
   "source": [
    "#Find number of people in each unique age range\n",
    "for people, age in cursor.execute(\"SELECT count(*), age FROM persons GROUP BY age\"):\n",
    "    print(\"Age: {}, Count of people {}\".format(age, people))"
   ]
  },
  {
   "cell_type": "code",
   "execution_count": 12,
   "metadata": {},
   "outputs": [
    {
     "name": "stdout",
     "output_type": "stream",
     "text": [
      "Age: 73, Count of people 5\n"
     ]
    }
   ],
   "source": [
    "#Find the age group with the most people in it\n",
    "for people, age in cursor.execute(\"SELECT COUNT(*), age FROM persons GROUP BY age ORDER BY count(*) DESC\"):\n",
    "    print(\"Age: {}, Count of people {}\".format(age, people))\n",
    "    break\n",
    "#Uses break to only take the top record in the database as we have used the SQL query to order the results by the highest\n",
    "#count. "
   ]
  },
  {
   "cell_type": "code",
   "execution_count": 23,
   "metadata": {},
   "outputs": [
    {
     "name": "stdout",
     "output_type": "stream",
     "text": [
      "(60,)\n"
     ]
    }
   ],
   "source": [
    "#Find the people without a last name\n",
    "count = cursor.execute(\"SELECT COUNT(*) FROM persons WHERE last_name IS null\")\n",
    "for row in count:\n",
    "    print(row)"
   ]
  },
  {
   "cell_type": "code",
   "execution_count": 30,
   "metadata": {},
   "outputs": [
    {
     "data": {
      "text/plain": [
       "43"
      ]
     },
     "execution_count": 30,
     "metadata": {},
     "output_type": "execute_result"
    }
   ],
   "source": [
    "#Find the number of people who have more than one pet\n",
    "\n",
    "#Join the two datasets and show the resulting dataframe then find the row count of the resulting dataframe\n",
    "petsWithOwners = len(pd.read_sql_query(\"SELECT Id, owner_id, count(*) FROM persons INNER JOIN pets ON persons.Id = pets.owner_id GROUP BY Id HAVING count(*) > 1\", conn).index)\n",
    "petsWithOwners\n",
    "\n",
    "#Used the Id, owner_id, count(*) fields as a way to verify that my query was working correctly before doing the row\n",
    "#count of the dataframe"
   ]
  },
  {
   "cell_type": "code",
   "execution_count": 35,
   "metadata": {},
   "outputs": [
    {
     "name": "stdout",
     "output_type": "stream",
     "text": [
      "(36,)\n"
     ]
    }
   ],
   "source": [
    "#Find the number of pets that have had treatment done\n",
    "petsWithTreatment = cursor.execute(\"SELECT COUNT(*) FROM pets WHERE treatment_done = 1\")\n",
    "for row in petsWithTreatment:\n",
    "    print(row)"
   ]
  },
  {
   "cell_type": "code",
   "execution_count": 36,
   "metadata": {},
   "outputs": [
    {
     "name": "stdout",
     "output_type": "stream",
     "text": [
      "(16,)\n"
     ]
    }
   ],
   "source": [
    "#Find the number of pets that have had treatment done and where we know the type of pet\n",
    "petsWithTreatment = cursor.execute(\"SELECT COUNT(*) FROM pets WHERE treatment_done = 1 AND pet_type IS NOT NULL\")\n",
    "for row in petsWithTreatment:\n",
    "    print(row)"
   ]
  },
  {
   "cell_type": "code",
   "execution_count": 51,
   "metadata": {},
   "outputs": [
    {
     "name": "stdout",
     "output_type": "stream",
     "text": [
      "(49,)\n"
     ]
    }
   ],
   "source": [
    "#Find the number of pets that live in east port\n",
    "eastPets = cursor.execute(\"SELECT COUNT(*) FROM pets JOIN persons ON pets.owner_id = persons.Id WHERE persons.city = 'east port'\")\n",
    "for row in eastPets:\n",
    "    print(row)"
   ]
  },
  {
   "cell_type": "code",
   "execution_count": 52,
   "metadata": {},
   "outputs": [
    {
     "name": "stdout",
     "output_type": "stream",
     "text": [
      "(11,)\n"
     ]
    }
   ],
   "source": [
    "#Find the number of pets that live in east port and recieved treatment\n",
    "eastPetsTreated = cursor.execute(\"SELECT COUNT(*) FROM pets JOIN persons ON pets.owner_id = persons.Id WHERE persons.city = 'east port' AND treatment_done = 1\")\n",
    "for row in eastPetsTreated:\n",
    "    print(row)"
   ]
  },
  {
   "cell_type": "code",
   "execution_count": null,
   "metadata": {},
   "outputs": [],
   "source": []
  }
 ],
 "metadata": {
  "kernelspec": {
   "display_name": "Python 3",
   "language": "python",
   "name": "python3"
  },
  "language_info": {
   "codemirror_mode": {
    "name": "ipython",
    "version": 3
   },
   "file_extension": ".py",
   "mimetype": "text/x-python",
   "name": "python",
   "nbconvert_exporter": "python",
   "pygments_lexer": "ipython3",
   "version": "3.8.3"
  }
 },
 "nbformat": 4,
 "nbformat_minor": 4
}
